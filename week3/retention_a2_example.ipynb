{
 "cells": [
  {
   "cell_type": "code",
   "execution_count": 17,
   "id": "5f4d7779",
   "metadata": {},
   "outputs": [],
   "source": [
    "import os\n",
    "import pandas as pd\n",
    "import datetime\n",
    "from datetime import date\n",
    "import time\n",
    "import numpy as np"
   ]
  },
  {
   "cell_type": "markdown",
   "id": "c577932b",
   "metadata": {},
   "source": []
  },
  {
   "cell_type": "markdown",
   "id": "241ff08c",
   "metadata": {},
   "source": [
    "## Download [this query on Quarry](https://quarry.wmcloud.org/query/59058) of 50k random users (with userpages who registered before 2020-10)"
   ]
  },
  {
   "cell_type": "code",
   "execution_count": 18,
   "id": "28410db3",
   "metadata": {},
   "outputs": [
    {
     "name": "stdout",
     "output_type": "stream",
     "text": [
      "--2021-10-11 04:12:27--  https://quarry.wmcloud.org/run/585296/output/0/tsv\n",
      "Resolving quarry.wmcloud.org (quarry.wmcloud.org)... 172.16.0.164\n",
      "Connecting to quarry.wmcloud.org (quarry.wmcloud.org)|172.16.0.164|:443... connected.\n",
      "HTTP request sent, awaiting response... 200 OK\n",
      "Length: unspecified [text/tab-separated-values]\n",
      "Saving to: ‘user_reg_with_userpages.tsv’\n",
      "\n",
      "user_reg_with_userp     [  <=>               ]   1.71M  4.47MB/s    in 0.4s    \n",
      "\n",
      "2021-10-11 04:12:28 (4.47 MB/s) - ‘user_reg_with_userpages.tsv’ saved [1795476]\n",
      "\n"
     ]
    }
   ],
   "source": [
    "!wget https://quarry.wmcloud.org/run/585296/output/0/tsv -O user_reg_with_userpages.tsv"
   ]
  },
  {
   "cell_type": "code",
   "execution_count": 19,
   "id": "879a635a",
   "metadata": {},
   "outputs": [
    {
     "name": "stdout",
     "output_type": "stream",
     "text": [
      "50001 user_reg_with_userpages.tsv\r\n"
     ]
    }
   ],
   "source": [
    "!wc -l user_reg_with_userpages.tsv"
   ]
  },
  {
   "cell_type": "code",
   "execution_count": 20,
   "id": "b82a95d5",
   "metadata": {},
   "outputs": [
    {
     "name": "stdout",
     "output_type": "stream",
     "text": [
      "\r\n",
      "\r\n",
      "\r\n",
      "\r\n",
      "\r\n",
      "\r\n",
      "\r\n",
      "\r\n",
      "\r\n",
      "\r\n"
     ]
    }
   ],
   "source": [
    "!head user_reg_with_userpages.tsv"
   ]
  },
  {
   "cell_type": "code",
   "execution_count": 21,
   "id": "3896fb1a",
   "metadata": {},
   "outputs": [
    {
     "data": {
      "text/html": [
       "<div>\n",
       "<style scoped>\n",
       "    .dataframe tbody tr th:only-of-type {\n",
       "        vertical-align: middle;\n",
       "    }\n",
       "\n",
       "    .dataframe tbody tr th {\n",
       "        vertical-align: top;\n",
       "    }\n",
       "\n",
       "    .dataframe thead th {\n",
       "        text-align: right;\n",
       "    }\n",
       "</style>\n",
       "<table border=\"1\" class=\"dataframe\">\n",
       "  <thead>\n",
       "    <tr style=\"text-align: right;\">\n",
       "      <th></th>\n",
       "      <th>user_name</th>\n",
       "      <th>user_id</th>\n",
       "      <th>user_registration</th>\n",
       "    </tr>\n",
       "  </thead>\n",
       "  <tbody>\n",
       "    <tr>\n",
       "      <th>0</th>\n",
       "      <td>KingRiach</td>\n",
       "      <td>27773404</td>\n",
       "      <td>20160307220704</td>\n",
       "    </tr>\n",
       "    <tr>\n",
       "      <th>1</th>\n",
       "      <td>Ctambo</td>\n",
       "      <td>6492102</td>\n",
       "      <td>20080221002533</td>\n",
       "    </tr>\n",
       "    <tr>\n",
       "      <th>2</th>\n",
       "      <td>Awisely</td>\n",
       "      <td>13820329</td>\n",
       "      <td>20110118230413</td>\n",
       "    </tr>\n",
       "    <tr>\n",
       "      <th>3</th>\n",
       "      <td>Shankhamita</td>\n",
       "      <td>16009368</td>\n",
       "      <td>20120101171414</td>\n",
       "    </tr>\n",
       "    <tr>\n",
       "      <th>4</th>\n",
       "      <td>Abhinayaprithivi</td>\n",
       "      <td>28005397</td>\n",
       "      <td>20160404204752</td>\n",
       "    </tr>\n",
       "    <tr>\n",
       "      <th>...</th>\n",
       "      <td>...</td>\n",
       "      <td>...</td>\n",
       "      <td>...</td>\n",
       "    </tr>\n",
       "    <tr>\n",
       "      <th>49995</th>\n",
       "      <td>Bandgeek1732</td>\n",
       "      <td>16336675</td>\n",
       "      <td>20120221035543</td>\n",
       "    </tr>\n",
       "    <tr>\n",
       "      <th>49996</th>\n",
       "      <td>Werqty12376</td>\n",
       "      <td>18321203</td>\n",
       "      <td>20130125002347</td>\n",
       "    </tr>\n",
       "    <tr>\n",
       "      <th>49997</th>\n",
       "      <td>Chrisboote</td>\n",
       "      <td>482416</td>\n",
       "      <td>20051007102059</td>\n",
       "    </tr>\n",
       "    <tr>\n",
       "      <th>49998</th>\n",
       "      <td>Mariibog</td>\n",
       "      <td>24622706</td>\n",
       "      <td>20150402172429</td>\n",
       "    </tr>\n",
       "    <tr>\n",
       "      <th>49999</th>\n",
       "      <td>Världsmedborgare</td>\n",
       "      <td>36198238</td>\n",
       "      <td>20190327173906</td>\n",
       "    </tr>\n",
       "  </tbody>\n",
       "</table>\n",
       "<p>50000 rows × 3 columns</p>\n",
       "</div>"
      ],
      "text/plain": [
       "              user_name   user_id  user_registration\n",
       "0             KingRiach  27773404     20160307220704\n",
       "1                Ctambo   6492102     20080221002533\n",
       "2               Awisely  13820329     20110118230413\n",
       "3           Shankhamita  16009368     20120101171414\n",
       "4      Abhinayaprithivi  28005397     20160404204752\n",
       "...                 ...       ...                ...\n",
       "49995      Bandgeek1732  16336675     20120221035543\n",
       "49996       Werqty12376  18321203     20130125002347\n",
       "49997        Chrisboote    482416     20051007102059\n",
       "49998          Mariibog  24622706     20150402172429\n",
       "49999  Världsmedborgare  36198238     20190327173906\n",
       "\n",
       "[50000 rows x 3 columns]"
      ]
     },
     "execution_count": 21,
     "metadata": {},
     "output_type": "execute_result"
    }
   ],
   "source": [
    "editors_df = pd.read_csv('user_reg_with_userpages.tsv', delimiter='\\t', infer_datetime_format=True)\n",
    "editors_df"
   ]
  },
  {
   "cell_type": "markdown",
   "id": "be92abe1",
   "metadata": {},
   "source": [
    "### Function for calculating future dates"
   ]
  },
  {
   "cell_type": "code",
   "execution_count": 22,
   "id": "ac51ef1d",
   "metadata": {},
   "outputs": [],
   "source": [
    "def add_days(d, days):\n",
    "\n",
    "    return d + datetime.timedelta(days=days)\n"
   ]
  },
  {
   "cell_type": "code",
   "execution_count": 23,
   "id": "6d878fd3",
   "metadata": {},
   "outputs": [
    {
     "data": {
      "text/plain": [
       "datetime.datetime(2011, 1, 1, 0, 0)"
      ]
     },
     "execution_count": 23,
     "metadata": {},
     "output_type": "execute_result"
    }
   ],
   "source": [
    "add_days(datetime.datetime(2010,1,1),365)"
   ]
  },
  {
   "cell_type": "code",
   "execution_count": 24,
   "id": "f073aa42",
   "metadata": {},
   "outputs": [
    {
     "data": {
      "text/plain": [
       "datetime.datetime(2010, 12, 31, 0, 0)"
      ]
     },
     "execution_count": 24,
     "metadata": {},
     "output_type": "execute_result"
    }
   ],
   "source": [
    "add_days(datetime.datetime(2010,1,1),364)"
   ]
  },
  {
   "cell_type": "markdown",
   "id": "64d8c04c",
   "metadata": {},
   "source": [
    "## Building one SQL query for each user's edits"
   ]
  },
  {
   "cell_type": "code",
   "execution_count": null,
   "id": "ba53d992",
   "metadata": {},
   "outputs": [],
   "source": []
  },
  {
   "cell_type": "code",
   "execution_count": 25,
   "id": "074fce24",
   "metadata": {},
   "outputs": [],
   "source": [
    "query_list = []\n",
    "reg_year_mo_list = []\n",
    "for index, row in editors_df.iterrows():\n",
    "    user_registration = row['user_registration']\n",
    "    reg_dt = datetime.datetime.strptime(str(user_registration), \"%Y%m%d%H%M%S\")\n",
    "\n",
    "    start_date = add_days(reg_dt, 182)\n",
    "    end_date = add_days(reg_dt, 365)\n",
    "    reg_year_mo = reg_dt.strftime(\"%Y-%m\")\n",
    "    \n",
    "    reg_year_mo_list.append(reg_year_mo)\n",
    "    \n",
    "\n",
    "#    query = \"select \" + str(row['user_id']) + \" as user_id, \" + str(row['user_registration']) + \" as user_registration,\"\n",
    "#    query += \"'\" + str(reg_year_mo) + \"' as year_mo, \"\n",
    "#    query += \"\"\"s.* from ( select rev_id from revision_userindex where rev_actor = \"\"\" + str(row['user_id'])\n",
    "#    query += \" and rev_timestamp > \" + start_date.strftime(\"%Y%m%d%H%M%S\") \n",
    "#    query += \" and rev_timestamp < \" + end_date.strftime(\"%Y%m%d%H%M%S\") + \") as s\"\n",
    "\n",
    "    query = \"select * from revision_userindex where rev_actor = \" + str(row['user_id'])\n",
    "    query += \" and rev_timestamp > \" + start_date.strftime(\"%Y%m%d%H%M%S\") \n",
    "    query += \" and rev_timestamp < \" + end_date.strftime(\"%Y%m%d%H%M%S\") + \";\"\n",
    "\n",
    "    query_list.append(query)"
   ]
  },
  {
   "cell_type": "code",
   "execution_count": 26,
   "id": "3b26ab77",
   "metadata": {},
   "outputs": [
    {
     "data": {
      "text/html": [
       "<div>\n",
       "<style scoped>\n",
       "    .dataframe tbody tr th:only-of-type {\n",
       "        vertical-align: middle;\n",
       "    }\n",
       "\n",
       "    .dataframe tbody tr th {\n",
       "        vertical-align: top;\n",
       "    }\n",
       "\n",
       "    .dataframe thead th {\n",
       "        text-align: right;\n",
       "    }\n",
       "</style>\n",
       "<table border=\"1\" class=\"dataframe\">\n",
       "  <thead>\n",
       "    <tr style=\"text-align: right;\">\n",
       "      <th></th>\n",
       "      <th>user_name</th>\n",
       "      <th>user_id</th>\n",
       "      <th>user_registration</th>\n",
       "      <th>reg_year_mo</th>\n",
       "      <th>query</th>\n",
       "    </tr>\n",
       "  </thead>\n",
       "  <tbody>\n",
       "    <tr>\n",
       "      <th>0</th>\n",
       "      <td>KingRiach</td>\n",
       "      <td>27773404</td>\n",
       "      <td>20160307220704</td>\n",
       "      <td>select * from revision_userindex where rev_act...</td>\n",
       "      <td>select * from revision_userindex where rev_act...</td>\n",
       "    </tr>\n",
       "    <tr>\n",
       "      <th>1</th>\n",
       "      <td>Ctambo</td>\n",
       "      <td>6492102</td>\n",
       "      <td>20080221002533</td>\n",
       "      <td>select * from revision_userindex where rev_act...</td>\n",
       "      <td>select * from revision_userindex where rev_act...</td>\n",
       "    </tr>\n",
       "    <tr>\n",
       "      <th>2</th>\n",
       "      <td>Awisely</td>\n",
       "      <td>13820329</td>\n",
       "      <td>20110118230413</td>\n",
       "      <td>select * from revision_userindex where rev_act...</td>\n",
       "      <td>select * from revision_userindex where rev_act...</td>\n",
       "    </tr>\n",
       "    <tr>\n",
       "      <th>3</th>\n",
       "      <td>Shankhamita</td>\n",
       "      <td>16009368</td>\n",
       "      <td>20120101171414</td>\n",
       "      <td>select * from revision_userindex where rev_act...</td>\n",
       "      <td>select * from revision_userindex where rev_act...</td>\n",
       "    </tr>\n",
       "    <tr>\n",
       "      <th>4</th>\n",
       "      <td>Abhinayaprithivi</td>\n",
       "      <td>28005397</td>\n",
       "      <td>20160404204752</td>\n",
       "      <td>select * from revision_userindex where rev_act...</td>\n",
       "      <td>select * from revision_userindex where rev_act...</td>\n",
       "    </tr>\n",
       "    <tr>\n",
       "      <th>...</th>\n",
       "      <td>...</td>\n",
       "      <td>...</td>\n",
       "      <td>...</td>\n",
       "      <td>...</td>\n",
       "      <td>...</td>\n",
       "    </tr>\n",
       "    <tr>\n",
       "      <th>49995</th>\n",
       "      <td>Bandgeek1732</td>\n",
       "      <td>16336675</td>\n",
       "      <td>20120221035543</td>\n",
       "      <td>select * from revision_userindex where rev_act...</td>\n",
       "      <td>select * from revision_userindex where rev_act...</td>\n",
       "    </tr>\n",
       "    <tr>\n",
       "      <th>49996</th>\n",
       "      <td>Werqty12376</td>\n",
       "      <td>18321203</td>\n",
       "      <td>20130125002347</td>\n",
       "      <td>select * from revision_userindex where rev_act...</td>\n",
       "      <td>select * from revision_userindex where rev_act...</td>\n",
       "    </tr>\n",
       "    <tr>\n",
       "      <th>49997</th>\n",
       "      <td>Chrisboote</td>\n",
       "      <td>482416</td>\n",
       "      <td>20051007102059</td>\n",
       "      <td>select * from revision_userindex where rev_act...</td>\n",
       "      <td>select * from revision_userindex where rev_act...</td>\n",
       "    </tr>\n",
       "    <tr>\n",
       "      <th>49998</th>\n",
       "      <td>Mariibog</td>\n",
       "      <td>24622706</td>\n",
       "      <td>20150402172429</td>\n",
       "      <td>select * from revision_userindex where rev_act...</td>\n",
       "      <td>select * from revision_userindex where rev_act...</td>\n",
       "    </tr>\n",
       "    <tr>\n",
       "      <th>49999</th>\n",
       "      <td>Världsmedborgare</td>\n",
       "      <td>36198238</td>\n",
       "      <td>20190327173906</td>\n",
       "      <td>select * from revision_userindex where rev_act...</td>\n",
       "      <td>select * from revision_userindex where rev_act...</td>\n",
       "    </tr>\n",
       "  </tbody>\n",
       "</table>\n",
       "<p>50000 rows × 5 columns</p>\n",
       "</div>"
      ],
      "text/plain": [
       "              user_name   user_id  user_registration  \\\n",
       "0             KingRiach  27773404     20160307220704   \n",
       "1                Ctambo   6492102     20080221002533   \n",
       "2               Awisely  13820329     20110118230413   \n",
       "3           Shankhamita  16009368     20120101171414   \n",
       "4      Abhinayaprithivi  28005397     20160404204752   \n",
       "...                 ...       ...                ...   \n",
       "49995      Bandgeek1732  16336675     20120221035543   \n",
       "49996       Werqty12376  18321203     20130125002347   \n",
       "49997        Chrisboote    482416     20051007102059   \n",
       "49998          Mariibog  24622706     20150402172429   \n",
       "49999  Världsmedborgare  36198238     20190327173906   \n",
       "\n",
       "                                             reg_year_mo  \\\n",
       "0      select * from revision_userindex where rev_act...   \n",
       "1      select * from revision_userindex where rev_act...   \n",
       "2      select * from revision_userindex where rev_act...   \n",
       "3      select * from revision_userindex where rev_act...   \n",
       "4      select * from revision_userindex where rev_act...   \n",
       "...                                                  ...   \n",
       "49995  select * from revision_userindex where rev_act...   \n",
       "49996  select * from revision_userindex where rev_act...   \n",
       "49997  select * from revision_userindex where rev_act...   \n",
       "49998  select * from revision_userindex where rev_act...   \n",
       "49999  select * from revision_userindex where rev_act...   \n",
       "\n",
       "                                                   query  \n",
       "0      select * from revision_userindex where rev_act...  \n",
       "1      select * from revision_userindex where rev_act...  \n",
       "2      select * from revision_userindex where rev_act...  \n",
       "3      select * from revision_userindex where rev_act...  \n",
       "4      select * from revision_userindex where rev_act...  \n",
       "...                                                  ...  \n",
       "49995  select * from revision_userindex where rev_act...  \n",
       "49996  select * from revision_userindex where rev_act...  \n",
       "49997  select * from revision_userindex where rev_act...  \n",
       "49998  select * from revision_userindex where rev_act...  \n",
       "49999  select * from revision_userindex where rev_act...  \n",
       "\n",
       "[50000 rows x 5 columns]"
      ]
     },
     "execution_count": 26,
     "metadata": {},
     "output_type": "execute_result"
    }
   ],
   "source": [
    "editors_df = pd.concat([editors_df,pd.Series(query_list,name=\"reg_year_mo\")], axis=1)\n",
    "editors_df = pd.concat([editors_df,pd.Series(query_list,name=\"query\")], axis=1)\n",
    "editors_df"
   ]
  },
  {
   "cell_type": "markdown",
   "id": "4f92e879",
   "metadata": {},
   "source": [
    "## Querying the database with a manually-written query"
   ]
  },
  {
   "cell_type": "code",
   "execution_count": 27,
   "id": "f860901a",
   "metadata": {},
   "outputs": [
    {
     "data": {
      "text/plain": [
       "((b'20121007153954',),\n",
       " (b'20121007154210',),\n",
       " (b'20121008155455',),\n",
       " (b'20121016134012',),\n",
       " (b'20121018031929',),\n",
       " (b'20121018031950',))"
      ]
     },
     "execution_count": 27,
     "metadata": {},
     "output_type": "execute_result"
    }
   ],
   "source": [
    "import pymysql\n",
    "\n",
    "# Host urls are like {wiki}.{analytics,web}.db.svc.wikimedia.cloud\n",
    "host = \"enwiki.web.db.svc.wikimedia.cloud\"\n",
    "credentials = \"~/.my.cnf\"\n",
    "\n",
    "query = \"\"\"    select rev_timestamp from revision_userindex\n",
    "               where rev_actor = 54\n",
    "               and rev_timestamp > 20121003204752\n",
    "               and rev_timestamp < 20121104204752\n",
    "            \n",
    "        \"\"\"\n",
    "\n",
    "#query = \"show tables\"\n",
    "\n",
    "#query = \"describe revision_userindex\"\n",
    "\n",
    "#query = \"select * from user limit 1\"\n",
    "\n",
    "\n",
    "conn = pymysql.connect(\n",
    "    host=host,\n",
    "    read_default_file=credentials,\n",
    "    database=\"enwiki_p\"\n",
    ")\n",
    "\n",
    "with conn.cursor() as cur:\n",
    "        cur.execute(query)\n",
    "        data = cur.fetchall()        \n",
    "conn.close()\n",
    "\n",
    "\n",
    "data"
   ]
  },
  {
   "cell_type": "markdown",
   "id": "76380a3c",
   "metadata": {},
   "source": [
    "Processing these results (user_id, reg_date, reg_date_month, edit timestamp in bytestring)"
   ]
  },
  {
   "cell_type": "code",
   "execution_count": 28,
   "id": "41379be0",
   "metadata": {},
   "outputs": [
    {
     "name": "stdout",
     "output_type": "stream",
     "text": [
      "Number of edits between dates: 6\n",
      "Edit made on:  2012-10-07 15:39:54\n",
      "Edit made on:  2012-10-07 15:42:10\n",
      "Edit made on:  2012-10-08 15:54:55\n",
      "Edit made on:  2012-10-16 13:40:12\n",
      "Edit made on:  2012-10-18 03:19:29\n",
      "Edit made on:  2012-10-18 03:19:50\n"
     ]
    }
   ],
   "source": [
    "print(\"Number of edits between dates:\", len(data))\n",
    "\n",
    "for edit in data:\n",
    "    print(\"Edit made on: \", datetime.datetime.strptime(edit[0].decode(),\"%Y%m%d%H%M%S\"))"
   ]
  },
  {
   "cell_type": "code",
   "execution_count": 29,
   "id": "880f0779",
   "metadata": {},
   "outputs": [
    {
     "ename": "Exception",
     "evalue": "Stopping at 500 rows",
     "output_type": "error",
     "traceback": [
      "\u001b[0;31m---------------------------------------------------------------------------\u001b[0m",
      "\u001b[0;31mException\u001b[0m                                 Traceback (most recent call last)",
      "\u001b[0;32m/tmp/ipykernel_33/1875040300.py\u001b[0m in \u001b[0;36m<module>\u001b[0;34m\u001b[0m\n\u001b[1;32m     27\u001b[0m \u001b[0;34m\u001b[0m\u001b[0m\n\u001b[1;32m     28\u001b[0m         \u001b[0;32mif\u001b[0m\u001b[0;34m(\u001b[0m\u001b[0mlen\u001b[0m\u001b[0;34m(\u001b[0m\u001b[0mdata_list\u001b[0m\u001b[0;34m)\u001b[0m \u001b[0;34m%\u001b[0m \u001b[0;36m500\u001b[0m \u001b[0;34m==\u001b[0m \u001b[0;36m0\u001b[0m\u001b[0;34m)\u001b[0m\u001b[0;34m:\u001b[0m\u001b[0;34m\u001b[0m\u001b[0;34m\u001b[0m\u001b[0m\n\u001b[0;32m---> 29\u001b[0;31m             \u001b[0;32mraise\u001b[0m \u001b[0mException\u001b[0m\u001b[0;34m(\u001b[0m\u001b[0;34m\"Stopping at 500 rows\"\u001b[0m\u001b[0;34m)\u001b[0m\u001b[0;34m\u001b[0m\u001b[0;34m\u001b[0m\u001b[0m\n\u001b[0m\u001b[1;32m     30\u001b[0m \u001b[0;34m\u001b[0m\u001b[0m\n\u001b[1;32m     31\u001b[0m \u001b[0mconn\u001b[0m\u001b[0;34m.\u001b[0m\u001b[0mclose\u001b[0m\u001b[0;34m(\u001b[0m\u001b[0;34m)\u001b[0m\u001b[0;34m\u001b[0m\u001b[0;34m\u001b[0m\u001b[0m\n",
      "\u001b[0;31mException\u001b[0m: Stopping at 500 rows"
     ]
    }
   ],
   "source": [
    "conn = pymysql.connect(\n",
    "    host=host,\n",
    "    read_default_file=credentials,\n",
    "    database=\"enwiki_p\"\n",
    ")\n",
    "\n",
    "data_list = []\n",
    "\n",
    "for index, row in editors_df.iterrows():\n",
    "    with conn.cursor() as cur:\n",
    "        cur.execute(row['query'])\n",
    "        data = cur.fetchall()\n",
    "\n",
    "        result = {}\n",
    "        \n",
    "        result['edits'] = len(data)\n",
    "        \n",
    "        result['user_id'] = row['user_id']\n",
    "        result['reg_date'] = row['user_registration']\n",
    "\n",
    "        if result['edits'] == 0:\n",
    "            result['survived'] = 0\n",
    "        else:\n",
    "            result['survived'] = 1\n",
    "            \n",
    "        data_list.append(result)\n",
    "            \n",
    "        if(len(data_list) % 500 == 0):\n",
    "            raise Exception(\"Stopping at 500 rows\")\n",
    "\n",
    "conn.close()"
   ]
  },
  {
   "cell_type": "code",
   "execution_count": null,
   "id": "a6e3c15b",
   "metadata": {},
   "outputs": [],
   "source": [
    "pd.DataFrame(data_list).sort_values(\"edits\")"
   ]
  },
  {
   "cell_type": "markdown",
   "id": "01d55343",
   "metadata": {},
   "source": [
    "### Query all 50,000 editor histories"
   ]
  },
  {
   "cell_type": "code",
   "execution_count": null,
   "id": "0e456f67",
   "metadata": {},
   "outputs": [],
   "source": [
    "conn = pymysql.connect(\n",
    "    host=host,\n",
    "    read_default_file=credentials,\n",
    "    database=\"enwiki_p\"\n",
    ")\n",
    "\n",
    "data_list = []\n",
    "\n",
    "for index, row in editors_df.iterrows():\n",
    "    with conn.cursor() as cur:\n",
    "        cur.execute(row['query'])\n",
    "        data = cur.fetchall()\n",
    "\n",
    "        result = {}\n",
    "        \n",
    "        result['edits'] = len(data)\n",
    "        \n",
    "        result['user_id'] = row['user_id']\n",
    "        result['reg_date'] = row['user_registration']\n",
    "\n",
    "        if result['edits'] == 0:\n",
    "            result['survived'] = 0\n",
    "        else:\n",
    "            result['survived'] = 1\n",
    "            \n",
    "        data_list.append(result)\n",
    "            \n",
    "        if(len(data_list) % 1000 == 0):\n",
    "            print(len(data_list))\n",
    "\n",
    "conn.close()"
   ]
  },
  {
   "cell_type": "code",
   "execution_count": null,
   "id": "3af84524",
   "metadata": {},
   "outputs": [],
   "source": [
    "retention_df = pd.DataFrame(data_list)\n",
    "len(retention_df)\n",
    "retention_df.sort_values(\"edits\")"
   ]
  },
  {
   "cell_type": "code",
   "execution_count": null,
   "id": "dd88bb30",
   "metadata": {},
   "outputs": [],
   "source": [
    "def datetime_to_year_mo(dt):\n",
    "    return datetime.datetime.strftime(dt, \"%Y-%m\")"
   ]
  },
  {
   "cell_type": "code",
   "execution_count": null,
   "id": "7628442a",
   "metadata": {},
   "outputs": [],
   "source": [
    "retention_df['reg_date'] = pd.to_datetime(retention_df['reg_date'], format=\"%Y%m%d%H%M%S\")\n",
    "retention_df['reg_date_year_mo'] = retention_df['reg_date'].apply(datetime_to_year_mo)\n",
    "retention_df"
   ]
  },
  {
   "cell_type": "markdown",
   "id": "68ce3c80",
   "metadata": {},
   "source": [
    "### Plot results"
   ]
  },
  {
   "cell_type": "code",
   "execution_count": null,
   "id": "3d6c0e3b",
   "metadata": {},
   "outputs": [],
   "source": [
    "retention_group = retention_df.groupby([\"reg_date_year_mo\"])\n",
    "monthly_averages = retention_group.aggregate({\"survived\":np.mean})\n",
    "#monthly_averages = monthly_averages.query(\"reg_date >= '2006-01'\")\n",
    "fig = monthly_averages.plot(figsize=(12,8))\n"
   ]
  },
  {
   "cell_type": "code",
   "execution_count": null,
   "id": "c8e18f92",
   "metadata": {},
   "outputs": [],
   "source": []
  },
  {
   "cell_type": "markdown",
   "id": "ee8c2c0a",
   "metadata": {},
   "source": [
    "## Assignment 2\n",
    "\n",
    "This does not check to see if the editor actually made an edit to an article, only that they registered. Expand to filter out every user who did not make an edit in their first six months. You will need to either keep the first query to the revision table for every user and add a second query for every user to filter out those who did not make an edit --- or (recommended) you can modify the first query to revision table in the database to do return a result for all 12 months, which will let you measure survival and do the filtering. Remember that you must join with the page table to filter by namespaces (articles are namespace 0). Here is an example query for getting a user's edits: https://quarry.wmcloud.org/query/59069\n"
   ]
  },
  {
   "cell_type": "code",
   "execution_count": null,
   "id": "74b42652",
   "metadata": {},
   "outputs": [],
   "source": [
    "editors_df = pd.read_csv('user_reg_with_userpages.tsv', delimiter='\\t', infer_datetime_format=True)\n",
    "editors_df"
   ]
  },
  {
   "cell_type": "code",
   "execution_count": null,
   "id": "13efb46d",
   "metadata": {},
   "outputs": [],
   "source": [
    "query_list = []\n",
    "reg_year_mo_list = []\n",
    "for index, row in editors_df.iterrows():\n",
    "    user_registration = row['user_registration']\n",
    "    reg_dt = datetime.datetime.strptime(str(user_registration), \"%Y%m%d%H%M%S\")\n",
    "\n",
    "    start_date = add_days(reg_dt, 0)\n",
    "    end_date = add_days(reg_dt, 183)\n",
    "    reg_year_mo = reg_dt.strftime(\"%Y-%m\")\n",
    "    \n",
    "    reg_year_mo_list.append(reg_year_mo)\n",
    "    \n",
    "\n",
    "#    query = \"select \" + str(row['user_id']) + \" as user_id, \" + str(row['user_registration']) + \" as user_registration,\"\n",
    "#    query += \"'\" + str(reg_year_mo) + \"' as year_mo, \"\n",
    "#    query += \"\"\"s.* from ( select rev_id from revision_userindex where rev_actor = \"\"\" + str(row['user_id'])\n",
    "#    query += \" and rev_timestamp > \" + start_date.strftime(\"%Y%m%d%H%M%S\") \n",
    "#    query += \" and rev_timestamp < \" + end_date.strftime(\"%Y%m%d%H%M%S\") + \") as s\"\n",
    "\n",
    "#     query = \"select user_name, user_id, user_registration from page\" from revision_userindex where rev_actor = \" + str(row['user_id'])\n",
    "#     query += \" inner join revision_userindex on page_title = user_name\"\n",
    "#     query += \" and rev_timestamp > \" + start_date.strftime(\"%Y%m%d%H%M%S\") \n",
    "#     query += \" and rev_timestamp < \" + end_date.strftime(\"%Y%m%d%H%M%S\") + \";\"\n",
    "\n",
    "    query = \"select * from revision_userindex where rev_actor = \" + str(row['user_id'])\n",
    "    query += \" and rev_timestamp > \" + start_date.strftime(\"%Y%m%d%H%M%S\") \n",
    "    query += \" and rev_timestamp < \" + end_date.strftime(\"%Y%m%d%H%M%S\") + \";\"\n",
    "    \n",
    "\n",
    "    query_list.append(query)"
   ]
  },
  {
   "cell_type": "code",
   "execution_count": null,
   "id": "08279ec0",
   "metadata": {},
   "outputs": [],
   "source": [
    "editors_df = pd.concat([editors_df,pd.Series(query_list,name=\"reg_year_mo\")], axis=1)\n",
    "editors_df = pd.concat([editors_df,pd.Series(query_list,name=\"query\")], axis=1)\n",
    "editors_df"
   ]
  },
  {
   "cell_type": "code",
   "execution_count": null,
   "id": "4c325f3a",
   "metadata": {},
   "outputs": [],
   "source": [
    "conn = pymysql.connect(\n",
    "    host=host,\n",
    "    read_default_file=credentials,\n",
    "    database=\"enwiki_p\"\n",
    ")\n",
    "\n",
    "data_list = []\n",
    "\n",
    "for index, row in editors_df.iterrows():\n",
    "    with conn.cursor() as cur:\n",
    "        cur.execute(row['query'])\n",
    "        data = cur.fetchall()\n",
    "\n",
    "        result = {}\n",
    "        \n",
    "        result['edits'] = len(data)\n",
    "        \n",
    "        result['user_id'] = row['user_id']\n",
    "        result['reg_date'] = row['user_registration']\n",
    "\n",
    "        if result['edits'] == 0:\n",
    "            result['survived'] = 0\n",
    "        else:\n",
    "            result['survived'] = 1\n",
    "            \n",
    "        data_list.append(result)\n",
    "            \n",
    "        if(len(data_list) % 1000 == 0):\n",
    "            print(len(data_list))\n",
    "\n",
    "conn.close()"
   ]
  },
  {
   "cell_type": "code",
   "execution_count": null,
   "id": "3b7281b7",
   "metadata": {},
   "outputs": [],
   "source": [
    "retention_df = pd.DataFrame(data_list)\n",
    "len(retention_df)\n",
    "retention_df.sort_values(\"edits\")"
   ]
  },
  {
   "cell_type": "code",
   "execution_count": null,
   "id": "958c9a05",
   "metadata": {},
   "outputs": [],
   "source": [
    "retention_df = retention_df[retention_df['edits'] > 0]\n",
    "retention_df"
   ]
  },
  {
   "cell_type": "code",
   "execution_count": null,
   "id": "2f501779",
   "metadata": {},
   "outputs": [],
   "source": []
  },
  {
   "cell_type": "code",
   "execution_count": null,
   "id": "186938a6",
   "metadata": {},
   "outputs": [],
   "source": []
  }
 ],
 "metadata": {
  "kernelspec": {
   "display_name": "Python 3 (ipykernel)",
   "language": "python",
   "name": "python3"
  },
  "language_info": {
   "codemirror_mode": {
    "name": "ipython",
    "version": 3
   },
   "file_extension": ".py",
   "mimetype": "text/x-python",
   "name": "python",
   "nbconvert_exporter": "python",
   "pygments_lexer": "ipython3",
   "version": "3.8.10"
  }
 },
 "nbformat": 4,
 "nbformat_minor": 5
}
